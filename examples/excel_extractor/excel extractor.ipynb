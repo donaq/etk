{
 "cells": [
  {
   "cell_type": "markdown",
   "metadata": {},
   "source": [
    "# Excel Extractor\n",
    "\n",
    "ETK's Excel Extractor is a cell-based extractor for extracting data from compatible spreadsheets.\n",
    "\n",
    "## Souce spreadsheet\n",
    "\n",
    "The example spreadsheet file named `alabama.xml` and it has a sheet named `16tbl08al`, in which row 1 to row 5 and row 60 to row 62 are metadata, 6A to M59 is a table (which has row and column headers). For this example, I'm going to extract data from C7 to M33 (see the picture attached below).\n",
    "\n",
    "![screenshot.png](screenshot.png)"
   ]
  },
  {
   "cell_type": "markdown",
   "metadata": {},
   "source": [
    "## Define where and how to extract data\n",
    "\n",
    "Excel Extractor will scan cell-by-cell within a region that you specified and populate variables that you defined. \n",
    "\n",
    "\n",
    "### Define variable\n",
    "\n",
    "In this particular example, I want to extract value of all cells in region (C7, M33) and I defined a variable called `value`. Its value will be extracted from a cell located at `$col,$row` where `$col` and `$row` mean current column id and row id that the scanner is traversing at. The return is a list of object which contains user-defined variables."
   ]
  },
  {
   "cell_type": "code",
   "execution_count": 1,
   "metadata": {},
   "outputs": [
    {
     "name": "stdout",
     "output_type": "stream",
     "text": [
      "[{'value': 73},\n",
      " {'value': 1},\n",
      " {'value': 12},\n",
      " {'value': ''},\n",
      " {'value': 8},\n",
      " {'value': 52},\n",
      " {'value': 429},\n",
      " {'value': 146},\n",
      " {'value': 233},\n",
      " {'value': 50}]\n"
     ]
    }
   ],
   "source": [
    "import pprint\n",
    "from etk.extractors.excel_extractor import ExcelExtractor\n",
    "ee = ExcelExtractor()\n",
    "variables = {\n",
    "    'value': '$col,$row'\n",
    "}\n",
    "raw_extractions = ee.extract('alabama.xls', '16tbl08al', ['C,7', 'M,33'], variables)\n",
    "pprint.pprint(raw_extractions[:10])  # print first 10"
   ]
  },
  {
   "cell_type": "markdown",
   "metadata": {},
   "source": [
    "### Coordinate variable\n",
    "\n",
    "Excel Extractor allows you to define multiple variables. This is useful if you want to extract the data from other cells which are associated with current cell. In this example, I also need column header (category) and county name of every cell in the region. It supports constant coordinate like `($B,$1)` (which means the cell at column B row 1) or using `+` and `-` to caculate relative coordinate like `($B-1,$row+1)` (which means the cell at column A and its row id is current row id + 1)."
   ]
  },
  {
   "cell_type": "code",
   "execution_count": 2,
   "metadata": {},
   "outputs": [
    {
     "name": "stdout",
     "output_type": "stream",
     "text": [
      "[{'category': 'Violent\\ncrime', 'county': 'Autauga', 'value': 73},\n",
      " {'category': 'Murder and\\nnonnegligent\\nmanslaughter',\n",
      "  'county': 'Autauga',\n",
      "  'value': 1},\n",
      " {'category': 'Rape\\n(revised\\ndefinition)1', 'county': 'Autauga', 'value': 12},\n",
      " {'category': 'Rape\\n(legacy\\ndefinition)2', 'county': 'Autauga', 'value': ''},\n",
      " {'category': 'Robbery', 'county': 'Autauga', 'value': 8},\n",
      " {'category': 'Aggravated\\nassault', 'county': 'Autauga', 'value': 52},\n",
      " {'category': 'Property\\ncrime', 'county': 'Autauga', 'value': 429},\n",
      " {'category': 'Burglary', 'county': 'Autauga', 'value': 146},\n",
      " {'category': 'Larceny-\\ntheft', 'county': 'Autauga', 'value': 233},\n",
      " {'category': 'Motor\\nvehicle\\ntheft', 'county': 'Autauga', 'value': 50}]\n"
     ]
    }
   ],
   "source": [
    "variables = {\n",
    "    'value': '$col,$row',\n",
    "    'county': '$B,$row',\n",
    "    'category': '$col,$6'\n",
    "}\n",
    "raw_extractions = ee.extract('alabama.xls', '16tbl08al', ['C,7', 'M,33'], variables)\n",
    "pprint.pprint(raw_extractions[:10]) # print first 10"
   ]
  },
  {
   "cell_type": "markdown",
   "metadata": {},
   "source": [
    "### Single variable\n",
    "\n",
    "Besides the coordinate, the value of variables can also be a builtin variable (it only has `$row` and `$col` right now). This can be used for tracking provenance of extractions. Both row and column id here are presented in numeric form (base is 0)."
   ]
  },
  {
   "cell_type": "code",
   "execution_count": 3,
   "metadata": {},
   "outputs": [
    {
     "name": "stdout",
     "output_type": "stream",
     "text": [
      "[{'category': 'Violent\\ncrime',\n",
      "  'county': 'Autauga',\n",
      "  'from_col': 2,\n",
      "  'from_row': 6,\n",
      "  'value': 73},\n",
      " {'category': 'Murder and\\nnonnegligent\\nmanslaughter',\n",
      "  'county': 'Autauga',\n",
      "  'from_col': 3,\n",
      "  'from_row': 6,\n",
      "  'value': 1},\n",
      " {'category': 'Rape\\n(revised\\ndefinition)1',\n",
      "  'county': 'Autauga',\n",
      "  'from_col': 4,\n",
      "  'from_row': 6,\n",
      "  'value': 12},\n",
      " {'category': 'Rape\\n(legacy\\ndefinition)2',\n",
      "  'county': 'Autauga',\n",
      "  'from_col': 5,\n",
      "  'from_row': 6,\n",
      "  'value': ''},\n",
      " {'category': 'Robbery',\n",
      "  'county': 'Autauga',\n",
      "  'from_col': 6,\n",
      "  'from_row': 6,\n",
      "  'value': 8},\n",
      " {'category': 'Aggravated\\nassault',\n",
      "  'county': 'Autauga',\n",
      "  'from_col': 7,\n",
      "  'from_row': 6,\n",
      "  'value': 52},\n",
      " {'category': 'Property\\ncrime',\n",
      "  'county': 'Autauga',\n",
      "  'from_col': 8,\n",
      "  'from_row': 6,\n",
      "  'value': 429},\n",
      " {'category': 'Burglary',\n",
      "  'county': 'Autauga',\n",
      "  'from_col': 9,\n",
      "  'from_row': 6,\n",
      "  'value': 146},\n",
      " {'category': 'Larceny-\\ntheft',\n",
      "  'county': 'Autauga',\n",
      "  'from_col': 10,\n",
      "  'from_row': 6,\n",
      "  'value': 233},\n",
      " {'category': 'Motor\\nvehicle\\ntheft',\n",
      "  'county': 'Autauga',\n",
      "  'from_col': 11,\n",
      "  'from_row': 6,\n",
      "  'value': 50}]\n"
     ]
    }
   ],
   "source": [
    "variables = {\n",
    "    'value': '$col,$row',\n",
    "    'county': '$B,$row',\n",
    "    'category': '$col,$6',\n",
    "    'from_row': '$row',\n",
    "    'from_col': '$col'\n",
    "}\n",
    "raw_extractions = ee.extract('alabama.xls', '16tbl08al', ['C,7', 'M,33'], variables)\n",
    "pprint.pprint(raw_extractions[:10])  # print first 10"
   ]
  },
  {
   "cell_type": "markdown",
   "metadata": {},
   "source": [
    "## Wrap them up in ETK module and post processing\n",
    "\n",
    "The below example shows how to use this extractor in ETK module. The extractor's variable syntax only supports using a single builtin variable or a coordinate. All the post processings need to be done after extraction."
   ]
  },
  {
   "cell_type": "code",
   "execution_count": 4,
   "metadata": {},
   "outputs": [
    {
     "name": "stdout",
     "output_type": "stream",
     "text": [
      "{'value': 73, 'county': 'Autauga', 'category': 'Violent crime', 'from_row': 6, 'from_col': 2, 'doc_id': 'a37cb63313d1a36f869685c854402756bae56f300cedfbc84a286a9994aea32b'}\n",
      "{'value': 1, 'county': 'Autauga', 'category': 'Murder and nonnegligent manslaughter', 'from_row': 6, 'from_col': 3, 'doc_id': 'ef3cdb52b90cf21b533d272f95bcf1a39374f659d29a2f1469770d5c04269aa6'}\n",
      "{'value': 12, 'county': 'Autauga', 'category': 'Rape (revised definition)1', 'from_row': 6, 'from_col': 4, 'doc_id': '45ffcad797f25e0e4a8930a8814a5cb5c5b354d02f9ae672349ff3a9990b1f47'}\n",
      "{'value': '', 'county': 'Autauga', 'category': 'Rape (legacy definition)2', 'from_row': 6, 'from_col': 5, 'doc_id': '1e5337d3a9d088eeaff36930d97134bd480a2e15430e4114f3359ff83d0d9992'}\n",
      "{'value': 8, 'county': 'Autauga', 'category': 'Robbery', 'from_row': 6, 'from_col': 6, 'doc_id': '39fd8cf71ab4b7d4d55501d249603dbcae5049985731d2fee1e950d794693e87'}\n",
      "{'value': 52, 'county': 'Autauga', 'category': 'Aggravated assault', 'from_row': 6, 'from_col': 7, 'doc_id': 'de8bc85d8fbc35e72bfffbd6c0e4f642c76496c7da76d3b2158044ff81edf280'}\n",
      "{'value': 429, 'county': 'Autauga', 'category': 'Property crime', 'from_row': 6, 'from_col': 8, 'doc_id': 'eddcbeba7540667381f4a49f7a086f23ed08df185f4e2a93bbb9fd3932ae4619'}\n",
      "{'value': 146, 'county': 'Autauga', 'category': 'Burglary', 'from_row': 6, 'from_col': 9, 'doc_id': 'c3887d1cd07c483160291f1cb345f5f4103109452948ec07dc840c576107e578'}\n",
      "{'value': 233, 'county': 'Autauga', 'category': 'Larceny- theft', 'from_row': 6, 'from_col': 10, 'doc_id': 'a2cd5eb770ba9394ba2bf2d04637acc27a3ec76cfe5addd48365cd9950c99585'}\n",
      "{'value': 50, 'county': 'Autauga', 'category': 'Motor vehicle theft', 'from_row': 6, 'from_col': 11, 'doc_id': '5d5721be75fddab89411a44a2a0390a73898184daa952119352453c68c8c3c6e'}\n"
     ]
    }
   ],
   "source": [
    "import os, sys\n",
    "from etk.etk import ETK\n",
    "from etk.etk_module import ETKModule\n",
    "from etk.extractors.excel_extractor import ExcelExtractor\n",
    "from etk.utilities import Utility\n",
    "\n",
    "\n",
    "class ExampleETKModule(ETKModule):\n",
    "    \"\"\"\n",
    "    Abstract class for extraction module\n",
    "    \"\"\"\n",
    "    def __init__(self, etk):\n",
    "        ETKModule.__init__(self, etk)\n",
    "        self.ee = ExcelExtractor()\n",
    "\n",
    "    def document_selector(self, doc):\n",
    "        return 'file_path' in doc.cdr_document\n",
    "\n",
    "    def process_document(self, doc):\n",
    "        \"\"\"\n",
    "        Add your code for processing the document\n",
    "        \"\"\"\n",
    "\n",
    "        variables = {\n",
    "            'value': '$col,$row',\n",
    "            'county': '$B,$row',\n",
    "            'category': '$col,$6',\n",
    "            'from_row': '$row',\n",
    "            'from_col': '$col'\n",
    "        }\n",
    "\n",
    "        raw_extractions = self.ee.extract(doc.cdr_document['file_path'], '16tbl08al', ['C,7', 'M,33'], variables)\n",
    "\n",
    "        extracted_docs = []\n",
    "        for d in raw_extractions:\n",
    "            # post processing\n",
    "            d['category'] = d['category'].replace('\\n', ' ').strip()\n",
    "            d['county'] = d['county'].replace('\\n', ' ').strip()\n",
    "            d['from_row'] = int(d['from_row'])\n",
    "            d['from_col'] = int(d['from_col'])\n",
    "            \n",
    "            # create sub document\n",
    "            d['doc_id'] = Utility.create_doc_id_from_json(d)\n",
    "            extracted_docs.append(etk.create_document(d))\n",
    "\n",
    "        return extracted_docs\n",
    "\n",
    "\n",
    "# if __name__ == \"__main__\":\n",
    "etk = ETK(modules=ExampleETKModule)\n",
    "doc = etk.create_document({'file_path': 'alabama.xls'})\n",
    "docs = etk.process_ems(doc)\n",
    "\n",
    "for d in docs[1:11]:  # print first 10\n",
    "    print(d.value)"
   ]
  }
 ],
 "metadata": {
  "kernelspec": {
   "display_name": "etk2_env",
   "language": "python",
   "name": "etk2_env"
  },
  "language_info": {
   "codemirror_mode": {
    "name": "ipython",
    "version": 3
   },
   "file_extension": ".py",
   "mimetype": "text/x-python",
   "name": "python",
   "nbconvert_exporter": "python",
   "pygments_lexer": "ipython3",
   "version": "3.6.2"
  }
 },
 "nbformat": 4,
 "nbformat_minor": 2
}
